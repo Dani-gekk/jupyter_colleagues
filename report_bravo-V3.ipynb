{
 "cells": [
  {
   "cell_type": "code",
   "execution_count": 1,
   "id": "45dfdfa4-d726-46a4-a8e6-ed1ffeb4400f",
   "metadata": {},
   "outputs": [
    {
     "data": {
      "text/markdown": [
       "\n",
       "<div style=\"display: flex; align-items: start; justify-content: space-between;\">\n",
       "    <img src=\"png_files/new_logo.png\" style=\"height: 50px;\">\n",
       "    <div style=\"text-align: right;\">\n",
       "        <span style=\"font-size: 16px; color: black; font-family: 'Quicksand';\">Week 32 LNG Report</span>\n",
       "        <br>\n",
       "        <span style=\"font-size: 16px; color: black; font-family: 'Quicksand';\">August 08, 2024</span>\n",
       "    </div>\n",
       "</div>\n",
       "<div style=\"border-bottom: 2px solid #072a6e; margin-top: 5px;\"></div>\n"
      ],
      "text/plain": [
       "<IPython.core.display.Markdown object>"
      ]
     },
     "metadata": {},
     "output_type": "display_data"
    }
   ],
   "source": [
    "from datetime import datetime, timedelta\n",
    "from IPython.display import Markdown, display\n",
    "\n",
    "\n",
    "#cell01\n",
    "# Get today's date\n",
    "today = datetime.now()\n",
    "\n",
    "# Calculate how many days to subtract to get the last Friday\n",
    "#days_to_friday = (today.weekday() - 4) % 7\n",
    "\n",
    "# If today is Saturday (5), you want to show the day before yesterday, adjust the formula accordingly\n",
    "#most_recent_friday = today - timedelta(days=days_to_friday)\n",
    "\n",
    "# Calculate the week number\n",
    "#week_number = most_recent_friday.isocalendar()[1]\n",
    "week_number = today.isocalendar()[1]\n",
    "\n",
    "# Format the date as desired (e.g., Month day, Year)\n",
    "#formatted_date = most_recent_friday.strftime('%B %d, %Y')\n",
    "formatted_date = today.strftime('%B %d, %Y')\n",
    "\n",
    "# Define the HTML content with the calculated date\n",
    "html_content = f'''\n",
    "<div style=\"display: flex; align-items: start; justify-content: space-between;\">\n",
    "    <img src=\"png_files/new_logo.png\" style=\"height: 50px;\">\n",
    "    <div style=\"text-align: right;\">\n",
    "        <span style=\"font-size: 16px; color: black; font-family: 'Quicksand';\">Week {week_number} LNG Report</span>\n",
    "        <br>\n",
    "        <span style=\"font-size: 16px; color: black; font-family: 'Quicksand';\">{formatted_date}</span>\n",
    "    </div>\n",
    "</div>\n",
    "<div style=\"border-bottom: 2px solid #072a6e; margin-top: 5px;\"></div>\n",
    "'''\n",
    "# Display HTML content\n",
    "display(Markdown(html_content))"
   ]
  },
  {
   "cell_type": "code",
   "execution_count": 4,
   "id": "4717ae88-4672-4f8f-9144-134c76669055",
   "metadata": {},
   "outputs": [
    {
     "data": {
      "text/markdown": [
       "\n",
       "<div style='width: 100%; display: flex; align-items: start; margin: 0;'>\n",
       "    <div style='width: 35%;'>\n",
       "        <h4>Hubs and basins movements</h4>\n",
       "        <p style=\"text-align: justify; font-size:11px;\">HH September’24 fell by 4.8% week on week settling at \\$1.97/Mmbtu on August 1st. This was likely supported by an increase of 1.1% in gas production reported by the EIA, and the gas storage still fuller compared to the 5-years-average during the same period. Gas to power production was lower 2% week on week, likely supported by a higher than double wind power production week on week.</p>\n",
       "    </div>\n",
       "    <div style=\"width: 65%; padding-top: 8px; padding-left: 15px\">\n",
       "        <img src=\"png_files\\hub_prices.png\"; style=\"width:100%; height:auto; border:none; text-align: right; \">\n",
       "    </div>\n",
       "</div>\n",
       "\n",
       "<div style='width: 100%; padding: 1px; font-size:11px; margin: 0;'>\n",
       "        <p>Forecast shows that heatwaves are to be expected in the US and likewise power demand forecast is set to rise in the next sessions, likely giving space for further bullishness in the HH if renewables lack performance.</p>\n",
       "        <p>The TTF September ’24 contract rose by 12.6% settling at \\$11.72Mmbtu on August first to remain competitive against the ever-bullish JKM. With Egypt having turned to a net importer position, and the Suez Canal remaining off-limits for most, Europe will likely need to keep attracting cargoes from the Atlantic to face increasingly hot weather while keep injecting in the storage ahead of winter.  Temperatures however are forecast to lower during week 32, giving space for the TTF to remain flat due to the lack of urgent power demand needs.</p>\n",
       "        <p>The JKM September ’24 settled at \\$12.49/Mmbtu, higher by 3.4% week on week. Heatwaves are expected to plague Asian countries, especially China, who is forecast to have maximum temperatures passing the 38°C mark. Demand from economic activity, however, is showing a structural slowdown in Asia. South Korean and Chinese industrial activity slowed, as the manufacturing PMI fell for both according to July data, which will translate to lower industrial demand.</p>\n",
       "</div>\n",
       "<div style='width: 100%; display: flex; text-align: center;'>\n",
       "    <img src='png_files\\EU_inventory.png' style='width: 93%; height: auto; margin: auto; margin-top: 0;'>\n",
       "</div>\n"
      ],
      "text/plain": [
       "<IPython.core.display.Markdown object>"
      ]
     },
     "execution_count": 4,
     "metadata": {},
     "output_type": "execute_result"
    }
   ],
   "source": [
    "#cell03 a repetition of 02 graph in case it didn't work\n",
    "import pandas as pd\n",
    "import plotly.graph_objs as go\n",
    "from datetime import *\n",
    "from dateutil.relativedelta import *\n",
    "from plotly.subplots import make_subplots\n",
    "from IPython.display import display, Markdown\n",
    "from plotly.io import to_html\n",
    "from docx import Document\n",
    "\n",
    "#run another python code!!!!\n",
    "#%run \"~/OneDrive - Bravo Tankers/pycharm projects/prices_hubs/src/prices_extractor.py\"\n",
    "#good but you need to convert all filepath to absolute or this code fucks up \n",
    "\n",
    "# doc with paragraphs\n",
    "from docx import Document\n",
    "\n",
    "def read_paragraph_from_docx(file_path, paragraph_index=0):\n",
    "    # Load the Word document\n",
    "    doc = Document(file_path)\n",
    "    \n",
    "    # Access the specific paragraph\n",
    "    # Check if the paragraph index is within the range of the document's paragraphs\n",
    "    if paragraph_index < len(doc.paragraphs):\n",
    "        return doc.paragraphs[paragraph_index].text\n",
    "    else:\n",
    "        return \"Paragraph index out of range!\"\n",
    "\n",
    "# Specify the path to your Word document\n",
    "file_path = r'C:/Users/daniela.miccoli/OneDrive - Bravo Tankers/reports jupyter/hub_page1.docx'\n",
    "# Choose the index of the paragraph you want to display; for example, the first paragraph\n",
    "paragraph1 = read_paragraph_from_docx(file_path, 0)\n",
    "paragraph2 = read_paragraph_from_docx(file_path, 1)\n",
    "paragraph3 = read_paragraph_from_docx(file_path, 2)\n",
    "paragraph4 = read_paragraph_from_docx(file_path, 3)\n",
    "#paragraph5 = read_paragraph_from_docx(file_path, 4)\n",
    "\n",
    "# setting up content\n",
    "html = f\"\"\"\n",
    "<div style='width: 100%; display: flex; align-items: start; margin: 0;'>\n",
    "    <div style='width: 35%;'>\n",
    "        <h4>Hubs and basins movements</h4>\n",
    "        <p style=\"text-align: justify; font-size:11px;\">{paragraph1}</p>\n",
    "    </div>\n",
    "    <div style=\"width: 65%; padding-top: 8px; padding-left: 15px\">\n",
    "        <img src=\"png_files\\hub_prices.png\"; style=\"width:100%; height:auto; border:none; text-align: right; \">\n",
    "    </div>\n",
    "</div>\n",
    "\"\"\"\n",
    "html1 = f\"\"\"\n",
    "<div style='width: 100%; padding: 1px; font-size:11px; margin: 0;'>\n",
    "        <p>{paragraph2}</p>\n",
    "        <p>{paragraph3}</p>\n",
    "        <p>{paragraph4}</p>\n",
    "</div>\n",
    "<div style='width: 100%; display: flex; text-align: center;'>\n",
    "    <img src='png_files\\EU_inventory.png' style='width: 93%; height: auto; margin: auto; margin-top: 0;'>\n",
    "</div>\n",
    "\"\"\"\n",
    "\n",
    "\n",
    "# Display the HTML\n",
    "Markdown(html + html1)"
   ]
  },
  {
   "cell_type": "code",
   "execution_count": 2,
   "id": "e2922b58-b2e2-405b-ab49-fbe1e14629d2",
   "metadata": {},
   "outputs": [
    {
     "data": {
      "text/markdown": [
       "\n",
       "<div style='width: 100%; display: flex; margin-bottom: 1px; '>\n",
       "    <div style='width:60%; font-size:11px; margin: 0;'>   \n",
       "        <h4>Shipping</h4>\n",
       "        <p style=\"text-align: justify; font-size:11px;\">Total liftings worldwide were down by 17 to 116, with the biggest difference coming from the Pacific, down by eight to 44 during week 31. Liftings from the US are likely to resume thanks to Freeport receiving full feedgas to power all its three trains. </p>\n",
       "     </div>\n",
       "     <div style='width: 40%; padding-left: 5px; padding-top: 18px; margin: 0;'>\n",
       "        <img src='png_files/freight_table.png' style=\"width:90%; height:auto; border:none; text-align: right; padding-top: 13px; right-padding: 5px;\">\n",
       "    </div>\n",
       "</div>\n",
       "<div style='width: 100%; display: flex; padding: 1px; margin-bottom: 5px; font-size:11px; margin: 0;'>\n",
       "        <p>The market was quiet during week 31. In the Far East the spot freight market is still active with traders picking up more cargoes as the heatwave engrosses Japan and South Korea. On the Atlantic side there is little activity on the spot. Russian LNG exports to Europe continue, although they slowed on the second half of July compared to the first half.</p>\n",
       "</div>    \n",
       "<div style='width: 100%; display: flex; padding: 1px; margin-bottom: 5px; font-size:11px; margin: 0;'>\n",
       "        <p>We expect liftings to the Pacific to remain high during week 32 to support high gas-to-power demand caused by severe heatwaves across Asian countries. US LNG terminal Sabine Pass was partially shut down on 1 August, according to sources, although details on its circumstances are yet to emerge. </p>\n",
       "</div>\n",
       "\n"
      ],
      "text/plain": [
       "<IPython.core.display.Markdown object>"
      ]
     },
     "metadata": {},
     "output_type": "display_data"
    },
    {
     "data": {
      "text/markdown": [
       "\n",
       "<div style='width: 100%; display: flex; margin: 0;'>\n",
       "    <div style='flex: 0 0 50%; display: flex; justify-content: center; style='width: 100%; height: auto;'>\n",
       "        <img src='png_files\\world_liftings_EU.png' style='width: 100%; height: auto%;'>\n",
       "    </div>\n",
       "    <div style='flex: 0 0 50%; display: flex; justify-content: center; style='width: 100%; height: auto;'>\n",
       "        <img src='png_files\\world_liftings_Asia.png' style='width: 100%; height: auto%;'>\n",
       "    </div>\n",
       "</div>\n",
       "<div style='width: 100%;  text-align: left; font-size: 8px; padding-bottom: 5px; margin: 0;'>\n",
       "    <p>Bravo Tankers aggregated data - Scatter size proportional to cbm of LNG delivered</p>\n",
       "</div>\n"
      ],
      "text/plain": [
       "<IPython.core.display.Markdown object>"
      ]
     },
     "metadata": {},
     "output_type": "display_data"
    },
    {
     "data": {
      "text/markdown": [
       "\n",
       "<div style='width: 100%; display: flex; flex-direction: column; margin: 0;'>\n",
       "    <div style='width: 100%; font-size:10px; margin:0;'>\n",
       "        <h4>News and developments</h4>\n",
       "        <ul><li>LNG Canada is progressing with its commissioning phase, including by receiving a LPG cargo</li><li>Japan's Jera launched on August first a new LNG unit at its Goi power plant</li><li>BP expects to start producing gas from its Tortue FLNG project offshore Senegal and Mauritania within the next three to four months</li></ul>\n",
       "    </div>\n",
       "</div>\n"
      ],
      "text/plain": [
       "<IPython.core.display.Markdown object>"
      ]
     },
     "metadata": {},
     "output_type": "display_data"
    }
   ],
   "source": [
    "#page 2 Liftings\n",
    "from IPython.display import display, Markdown, HTML\n",
    "from docx import Document\n",
    "import html\n",
    "from IPython.display import clear_output\n",
    "\n",
    "for i in range(50):\n",
    "    clear_output(wait=True)\n",
    "\n",
    "def read_paragraph_from_docx(file_path, paragraph_index):\n",
    "    # Load the Word document\n",
    "    doc = Document(file_path)\n",
    "    paragraphs = doc.paragraphs\n",
    "    return paragraphs[paragraph_index].text\n",
    "    \n",
    "    # Access the specific paragraph\n",
    "    # Check if the paragraph index is within the range of the document's paragraphs\n",
    "    if paragraph_index < len(doc.paragraphs):\n",
    "        return doc.paragraphs[paragraph_index].text\n",
    "    else:\n",
    "        return \"Paragraph index out of range!\"\n",
    "\n",
    "# Specify the path to your Word document\n",
    "file_path = r'C:\\Users\\daniela.miccoli\\OneDrive - Bravo Tankers\\reports jupyter\\Liftings_page2.docx'\n",
    "# Choose the index of the paragraph you want to display; for example, the first paragraph\n",
    "Lift1 = read_paragraph_from_docx(file_path, 0)\n",
    "Lift2 = read_paragraph_from_docx(file_path, 1)\n",
    "Lift3 = read_paragraph_from_docx(file_path, 2)\n",
    "\n",
    "# Escape the paragraphs to ensure they are displayed as plain text\n",
    "escLift1 = html.escape(Lift1)\n",
    "escLift2 = html.escape(Lift2)\n",
    "escLift3 = html.escape(Lift3)\n",
    "\n",
    "html_txt = f\"\"\"\n",
    "<div style='width: 100%; display: flex; margin-bottom: 1px; '>\n",
    "    <div style='width:60%; font-size:11px; margin: 0;'>   \n",
    "        <h4>Shipping</h4>\n",
    "        <p style=\"text-align: justify; font-size:11px;\">{escLift1}</p>\n",
    "     </div>\n",
    "     <div style='width: 40%; padding-left: 5px; padding-top: 18px; margin: 0;'>\n",
    "        <img src='png_files/freight_table.png' style=\"width:90%; height:auto; border:none; text-align: right; padding-top: 13px; right-padding: 5px;\">\n",
    "    </div>\n",
    "</div>\n",
    "<div style='width: 100%; display: flex; padding: 1px; margin-bottom: 5px; font-size:11px; margin: 0;'>\n",
    "        <p>{escLift2}</p>\n",
    "</div>    \n",
    "<div style='width: 100%; display: flex; padding: 1px; margin-bottom: 5px; font-size:11px; margin: 0;'>\n",
    "        <p>{escLift3}</p>\n",
    "</div>\n",
    "\n",
    "\"\"\"\n",
    "display(Markdown(html_txt))\n",
    "\n",
    "#add the two side by side freigght table and MGO\n",
    "maps = f\"\"\"\n",
    "<div style='width: 100%; display: flex; margin: 0;'>\n",
    "    <div style='flex: 0 0 50%; display: flex; justify-content: center; style='width: 100%; height: auto;'>\n",
    "        <img src='png_files\\world_liftings_EU.png' style='width: 100%; height: auto%;'>\n",
    "    </div>\n",
    "    <div style='flex: 0 0 50%; display: flex; justify-content: center; style='width: 100%; height: auto;'>\n",
    "        <img src='png_files\\world_liftings_Asia.png' style='width: 100%; height: auto%;'>\n",
    "    </div>\n",
    "</div>\n",
    "<div style='width: 100%;  text-align: left; font-size: 8px; padding-bottom: 5px; margin: 0;'>\n",
    "    <p>Bravo Tankers aggregated data - Scatter size proportional to cbm of LNG delivered</p>\n",
    "</div>\n",
    "\"\"\"\n",
    "display(Markdown(maps))\n",
    "\n",
    "txt_path = 'news_bullets.txt'\n",
    "\n",
    "def read_txt(txt_path):\n",
    "    bullet_points = []\n",
    "    with open(txt_path, 'r') as file:\n",
    "        for line in file:\n",
    "            bullet_points.append(line.strip())\n",
    "    return bullet_points\n",
    "\n",
    "def display_as_html_list(bullet_points):\n",
    "    # ul refers to unordered list, li to bullet points in html language\n",
    "    html = \"<ul>\" \n",
    "    for point in bullet_points:\n",
    "        html += f\"<li>{point}</li>\"\n",
    "    html += \"</ul>\"\n",
    "    return html\n",
    "\n",
    "bullet_points = read_txt(txt_path)\n",
    "\n",
    "#Create HTML content including the title and bullet points\n",
    "html_content = f\"\"\"\n",
    "<div style='width: 100%; display: flex; flex-direction: column; margin: 0;'>\n",
    "    <div style='width: 100%; font-size:10px; margin:0;'>\n",
    "        <h4>News and developments</h4>\n",
    "        {display_as_html_list(bullet_points)}\n",
    "    </div>\n",
    "</div>\n",
    "\"\"\"\n",
    "display(Markdown(html_content))"
   ]
  },
  {
   "cell_type": "code",
   "execution_count": 6,
   "id": "c3bf2c00-8fb0-4184-b193-3ea03e055b8c",
   "metadata": {},
   "outputs": [
    {
     "data": {
      "text/markdown": [
       "\n",
       "<div style='width: 100%; display: flex; bottom-margin: 1.5px;'>\n",
       "    <div style='justify-items: stretch;'>\n",
       "        <img src='png_files/Rotterdam dlv.png' style='width:100%;'>\n",
       "    </div>\n",
       "    <div style='justify-items: stretch;'>\n",
       "        <img src='png_files/Singapore dlv.png' style='width:100%; padding-left: 10px;'>\n",
       "    </div>\n",
       "</div>\n"
      ],
      "text/plain": [
       "<IPython.core.display.Markdown object>"
      ]
     },
     "metadata": {},
     "output_type": "display_data"
    },
    {
     "data": {
      "text/markdown": [
       "\n",
       "<div style='width: 100%; display: flex; justify-content: center; text-align: center; margin:0;>\n",
       "    <div style='flex: 1;'>\n",
       "        <img src='png_files/Liftings.png' style='width: 70%; left-margin:3px; bottom-margin: 0px;'>\n",
       "    </div>\n",
       "</div>\n",
       "\n"
      ],
      "text/plain": [
       "<IPython.core.display.Markdown object>"
      ]
     },
     "metadata": {},
     "output_type": "display_data"
    }
   ],
   "source": [
    "#page 2 Bullet point News\n",
    "from IPython.display import display, Markdown, IFrame\n",
    "from IPython.display import clear_output\n",
    "\n",
    "for i in range(50):\n",
    "    clear_output(wait=True)\n",
    "    \n",
    "# Define the HTML content with a flex container\n",
    "html_mgo = f\"\"\"\n",
    "<div style='width: 100%; display: flex; bottom-margin: 1.5px;'>\n",
    "    <div style='justify-items: stretch;'>\n",
    "        <img src='png_files/Rotterdam dlv.png' style='width:100%;'>\n",
    "    </div>\n",
    "    <div style='justify-items: stretch;'>\n",
    "        <img src='png_files/Singapore dlv.png' style='width:100%; padding-left: 10px;'>\n",
    "    </div>\n",
    "</div>\n",
    "\"\"\"   \n",
    "display(Markdown(html_mgo))\n",
    "\n",
    "html3 = f\"\"\"\n",
    "<div style='width: 100%; display: flex; justify-content: center; text-align: center; margin:0;>\n",
    "    <div style='flex: 1;'>\n",
    "        <img src='png_files/Liftings.png' style='width: 70%; left-margin:3px; bottom-margin: 0px;'>\n",
    "    </div>\n",
    "</div>\n",
    "\n",
    "\"\"\"\n",
    "# Display as HTML list - Necessary to use HTML with Python!!!\n",
    "display(Markdown(html3))\n",
    "#display(IFrame(src='EU_inventory.html', width='100%', height=400))\n"
   ]
  },
  {
   "cell_type": "code",
   "execution_count": 17,
   "id": "643e1543-e7cc-43ab-9764-5f0e6fe02b0a",
   "metadata": {},
   "outputs": [
    {
     "data": {
      "text/markdown": [
       "\n",
       "<div style=\"border-top: 2px solid #072a6e; margin-top: 2px;\"></div> "
      ],
      "text/plain": [
       "<IPython.core.display.Markdown object>"
      ]
     },
     "metadata": {},
     "output_type": "display_data"
    },
    {
     "data": {
      "text/markdown": [
       "\n",
       "<div style= 'text-align: left; font-size:8px; margin:0;'>\n",
       "       <p>Disclaimer: This report serves solely for informational purposes and does not constitute as trading and/or financial advice. Bravo Tankers disclaims all liability for any misinterpretation of data or decisions made by third parties based on the content herein.</p>\n",
       "</div>\n"
      ],
      "text/plain": [
       "<IPython.core.display.Markdown object>"
      ]
     },
     "metadata": {},
     "output_type": "display_data"
    }
   ],
   "source": [
    "from IPython.display import display, HTML, Markdown\n",
    "b_line =f\"\"\"\n",
    "<div style=\"border-top: 2px solid #072a6e; margin-top: 2px;\"></div> \"\"\"\n",
    "\n",
    "display(Markdown(b_line))\n",
    "\n",
    "disclaimer_content = f\"\"\"\n",
    "<div style= 'text-align: left; font-size:8px; margin:0;'>\n",
    "       <p>{\"Disclaimer: This report serves solely for informational purposes and does not constitute as trading and/or financial advice. Bravo Tankers disclaims all liability for any misinterpretation of data or decisions made by third parties based on the content herein.\"}</p>\n",
    "</div>\n",
    "\"\"\"\n",
    "\n",
    "display(Markdown(disclaimer_content))"
   ]
  },
  {
   "cell_type": "code",
   "execution_count": null,
   "id": "641d8550-d951-489b-a2a4-843d1f27933c",
   "metadata": {},
   "outputs": [],
   "source": []
  }
 ],
 "metadata": {
  "kernelspec": {
   "display_name": "Python 3 (ipykernel)",
   "language": "python",
   "name": "python3"
  },
  "language_info": {
   "codemirror_mode": {
    "name": "ipython",
    "version": 3
   },
   "file_extension": ".py",
   "mimetype": "text/x-python",
   "name": "python",
   "nbconvert_exporter": "python",
   "pygments_lexer": "ipython3",
   "version": "3.11.7"
  }
 },
 "nbformat": 4,
 "nbformat_minor": 5
}
